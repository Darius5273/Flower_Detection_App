{
 "cells": [
  {
   "cell_type": "code",
   "execution_count": null,
   "id": "240953ef",
   "metadata": {
    "tags": []
   },
   "outputs": [],
   "source": [
    "!pip install -y tf-nightly"
   ]
  },
  {
   "cell_type": "code",
   "execution_count": null,
   "id": "mighty-favor",
   "metadata": {
    "papermill": {
     "duration": 5.093749,
     "end_time": "2021-05-23T16:20:19.293869",
     "exception": false,
     "start_time": "2021-05-23T16:20:14.200120",
     "status": "completed"
    },
    "tags": []
   },
   "outputs": [],
   "source": [
    "import numpy as np\n",
    "import pandas as pd\n",
    "import os\n",
    "import matplotlib.pyplot as plt\n",
    "import random\n",
    "\n",
    "import tensorflow as tf\n",
    "from tensorflow.keras.utils import to_categorical\n",
    "from tensorflow.keras.preprocessing.image import load_img, img_to_array\n",
    "from tensorflow.keras.preprocessing.image import ImageDataGenerator\n",
    "\n",
    "from sklearn.metrics import classification_report, log_loss, accuracy_score\n",
    "from sklearn.model_selection import train_test_split\n",
    "from tqdm import tqdm\n",
    "\n",
    "from tensorflow.keras.layers import Dropout, BatchNormalization, Dense\n",
    "from tensorflow.keras.callbacks import ReduceLROnPlateau,ModelCheckpoint,EarlyStopping\n",
    "\n",
    "from tensorflow.keras import mixed_precision\n",
    "\n"
   ]
  },
  {
   "cell_type": "code",
   "execution_count": null,
   "id": "continental-broad",
   "metadata": {
    "papermill": {
     "duration": 0.023349,
     "end_time": "2021-05-23T16:20:19.334974",
     "exception": false,
     "start_time": "2021-05-23T16:20:19.311625",
     "status": "completed"
    },
    "tags": []
   },
   "outputs": [],
   "source": [
    "data_dir = './Flowers299'\n",
    "base_dir = '.\\Flowers_split' \n",
    "train_dir = os.path.join(base_dir, 'train')\n",
    "val_dir = os.path.join(base_dir, 'val')\n",
    "test_dir = os.path.join(base_dir, 'test')"
   ]
  },
  {
   "cell_type": "code",
   "execution_count": null,
   "id": "surrounded-freeware",
   "metadata": {
    "papermill": {
     "duration": 0.06412,
     "end_time": "2021-05-23T16:20:19.416334",
     "exception": false,
     "start_time": "2021-05-23T16:20:19.352214",
     "status": "completed"
    },
    "tags": []
   },
   "outputs": [],
   "source": [
    "Name=[]\n",
    "for file in os.listdir(data_dir):\n",
    "    Name+=[file]\n",
    "    \n",
    "print(Name)\n",
    "print(len(Name))"
   ]
  },
  {
   "cell_type": "code",
   "execution_count": null,
   "id": "f7582525",
   "metadata": {},
   "outputs": [],
   "source": [
    "labels_series=pd.Series(Name)\n",
    "\n",
    "labels_series.to_csv('labels1.txt',index=False,header=False)"
   ]
  },
  {
   "cell_type": "code",
   "execution_count": null,
   "id": "38b04a7f",
   "metadata": {},
   "outputs": [],
   "source": [
    "import re\n",
    "\n",
    "def add_space_before_capitals(input_file, output_file):\n",
    "    try:\n",
    "        # Read the content of the input file\n",
    "        with open(input_file, 'r') as file:\n",
    "            content = file.read()\n",
    "\n",
    "        # Use regular expression to add a space before each capital letter\n",
    "        modified_content = re.sub(r'(?<!^)(?<!\\s)(?=[A-Z])', ' ', content)\n",
    "\n",
    "        # Write the modified content to the output file\n",
    "        with open(output_file, 'w') as file:\n",
    "            file.write(modified_content)\n",
    "\n",
    "        print(f\"Processed content has been saved to '{output_file}'.\")\n",
    "\n",
    "    except FileNotFoundError:\n",
    "        print(f\"The file '{input_file}' was not found.\")\n",
    "    except Exception as e:\n",
    "        print(f\"An error occurred: {e}\")\n",
    "\n",
    "# Example usage\n",
    "input_file = 'labels1.txt'  # Replace with your input file name\n",
    "output_file = 'labels.txt'  # Replace with your desired output file name\n",
    "add_space_before_capitals(input_file, output_file)\n"
   ]
  },
  {
   "cell_type": "code",
   "execution_count": null,
   "id": "dried-dealing",
   "metadata": {
    "papermill": {
     "duration": 0.024975,
     "end_time": "2021-05-23T16:20:19.459329",
     "exception": false,
     "start_time": "2021-05-23T16:20:19.434354",
     "status": "completed"
    },
    "tags": []
   },
   "outputs": [],
   "source": [
    "N=[]\n",
    "for i in range(len(Name)):\n",
    "    N+=[i]\n",
    "    \n",
    "normal_mapping=dict(zip(Name,N)) \n",
    "reverse_mapping=dict(zip(N,Name)) \n",
    "\n",
    "def mapper(value):\n",
    "    return reverse_mapping[value]"
   ]
  },
  {
   "cell_type": "code",
   "execution_count": null,
   "id": "derived-ladder",
   "metadata": {
    "_cell_guid": "79c7e3d0-c299-4dcb-8224-4455121ee9b0",
    "_uuid": "d629ff2d2480ee46fbb7e2d37f6b5fab8052498a",
    "papermill": {
     "duration": 622.328354,
     "end_time": "2021-05-23T16:30:41.805853",
     "exception": false,
     "start_time": "2021-05-23T16:20:19.477499",
     "status": "completed"
    },
    "tags": []
   },
   "outputs": [],
   "source": [
    "dataset=[]\n",
    "count=0\n",
    "for file in tqdm(os.listdir(data_dir)):\n",
    "    path=os.path.join(data_dir,file)\n",
    "    for im in os.listdir(path):\n",
    "#         image=load_img(os.path.join(path,im), color_mode='rgb', target_size=(150,150))\n",
    "#         image=img_to_array(image)\n",
    "#         image=image/255.0\n",
    "#         dataset+=[[image,count]]\n",
    "          count=count+1 # count in first for only\n",
    "n = count\n",
    "print(n)"
   ]
  },
  {
   "cell_type": "code",
   "execution_count": null,
   "id": "historic-headset",
   "metadata": {
    "execution": {
     "iopub.execute_input": "2021-05-23T16:30:41.998548Z",
     "iopub.status.busy": "2021-05-23T16:30:41.997974Z",
     "iopub.status.idle": "2021-05-23T16:30:42.003169Z",
     "shell.execute_reply": "2021-05-23T16:30:42.003778Z",
     "shell.execute_reply.started": "2021-05-23T14:15:26.108014Z"
    },
    "papermill": {
     "duration": 0.102884,
     "end_time": "2021-05-23T16:30:42.003955",
     "exception": false,
     "start_time": "2021-05-23T16:30:41.901071",
     "status": "completed"
    },
    "tags": []
   },
   "outputs": [],
   "source": [
    "n=len(dataset)\n",
    "print(n)"
   ]
  },
  {
   "cell_type": "code",
   "execution_count": null,
   "id": "searching-being",
   "metadata": {
    "papermill": {
     "duration": 0.221411,
     "end_time": "2021-05-23T16:30:42.318292",
     "exception": false,
     "start_time": "2021-05-23T16:30:42.096881",
     "status": "completed"
    },
    "tags": []
   },
   "outputs": [],
   "source": [
    "num=[]\n",
    "for i in range(n):\n",
    "    num+=[i]\n",
    "random.shuffle(num)\n",
    "print(num[0:5])"
   ]
  },
  {
   "cell_type": "code",
   "execution_count": null,
   "id": "progressive-weight",
   "metadata": {
    "execution": {
     "iopub.execute_input": "2021-05-23T16:30:42.706492Z",
     "iopub.status.busy": "2021-05-23T16:30:42.694570Z",
     "iopub.status.idle": "2021-05-23T16:30:44.170408Z",
     "shell.execute_reply": "2021-05-23T16:30:44.168877Z",
     "shell.execute_reply.started": "2021-05-23T14:15:26.275117Z"
    },
    "papermill": {
     "duration": 1.758575,
     "end_time": "2021-05-23T16:30:44.170602",
     "exception": false,
     "start_time": "2021-05-23T16:30:42.412027",
     "status": "completed"
    },
    "tags": []
   },
   "outputs": [],
   "source": [
    "#data,labels=zip(*dataset)\n",
    "#data=np.array(data)\n",
    "#labels=np.array(labels)\n",
    "\n",
    "for i in tqdm(range(n)):\n",
    "    dataset[i][0]=dataset[i][0].astype(np.float16)\n",
    "\n",
    "train = np.array([dataset[i][0] for i in num[0:(n//10)*8]])\n",
    "trainlabel = np.array([dataset[i][1] for i in num[0:(n//10)*8]])\n",
    "\n",
    "test = np.array([dataset[i][0] for i in num[(n//10)*8:]])\n",
    "testlabel = np.array([dataset[i][1] for i in num[(n//10)*8:]])\n",
    "\n",
    "#train=data[num[0:(n//10)*8]]\n",
    "#trainlabel=labels[num[0:(n//10)*8]]\n",
    "\n",
    "# test=data[num[(n//10)*8:]]\n",
    "# testlabel=labels[num[(n//10)*8:]]"
   ]
  },
  {
   "cell_type": "code",
   "execution_count": null,
   "id": "threatened-electricity",
   "metadata": {
    "execution": {
     "iopub.execute_input": "2021-05-23T16:30:44.489716Z",
     "iopub.status.busy": "2021-05-23T16:30:44.482119Z",
     "iopub.status.idle": "2021-05-23T16:30:44.554097Z",
     "shell.execute_reply": "2021-05-23T16:30:44.553410Z",
     "shell.execute_reply.started": "2021-05-23T14:15:28.527869Z"
    },
    "papermill": {
     "duration": 0.22816,
     "end_time": "2021-05-23T16:30:44.554302",
     "exception": false,
     "start_time": "2021-05-23T16:30:44.326142",
     "status": "completed"
    },
    "tags": []
   },
   "outputs": [],
   "source": [
    "trainlabel2=to_categorical(trainlabel)"
   ]
  },
  {
   "cell_type": "code",
   "execution_count": null,
   "id": "sudden-tourist",
   "metadata": {
    "papermill": {
     "duration": 0.685029,
     "end_time": "2021-05-23T16:30:45.364415",
     "exception": false,
     "start_time": "2021-05-23T16:30:44.679386",
     "status": "completed"
    },
    "tags": []
   },
   "outputs": [],
   "source": [
    "datagen = ImageDataGenerator(rescale=1.0/255.0)\n",
    "datagen2 = ImageDataGenerator(rescale=1.0/255.0,horizontal_flip=True,vertical_flip=True,rotation_range=20,zoom_range=0.2,\n",
    "                       )\n",
    "\n",
    "train_generator = datagen2.flow_from_directory(\n",
    "    directory=train_dir,  # Use the new train directory\n",
    "    target_size=(224, 224),\n",
    "    batch_size=8,\n",
    "    color_mode='rgb',\n",
    "    class_mode='categorical'\n",
    ")\n",
    "\n",
    "validation_generator = datagen.flow_from_directory(\n",
    "    directory=val_dir,  # Use the new validation directory\n",
    "    target_size=(224, 224),\n",
    "    batch_size=8,color_mode='rgb',\n",
    "    class_mode='categorical'\n",
    ")\n",
    "\n",
    "test_generator = datagen.flow_from_directory(\n",
    "    directory=test_dir,  # Use the new test directory\n",
    "    target_size=(224, 224),\n",
    "    batch_size=8,color_mode='rgb',\n",
    "    class_mode='categorical',\n",
    "    shuffle=False\n",
    ")"
   ]
  },
  {
   "cell_type": "code",
   "execution_count": null,
   "id": "japanese-flesh",
   "metadata": {
    "execution": {
     "iopub.execute_input": "2021-05-23T16:30:45.553981Z",
     "iopub.status.busy": "2021-05-23T16:30:45.553427Z",
     "iopub.status.idle": "2021-05-23T16:30:45.558917Z",
     "shell.execute_reply": "2021-05-23T16:30:45.558327Z",
     "shell.execute_reply.started": "2021-05-23T14:15:29.351139Z"
    },
    "papermill": {
     "duration": 0.10187,
     "end_time": "2021-05-23T16:30:45.559059",
     "exception": false,
     "start_time": "2021-05-23T16:30:45.457189",
     "status": "completed"
    },
    "tags": []
   },
   "outputs": [],
   "source": [
    "print(trainx.shape)\n",
    "print(testx.shape)\n",
    "print(trainy.shape)\n",
    "print(testy.shape)"
   ]
  },
  {
   "cell_type": "code",
   "execution_count": null,
   "id": "exceptional-reception",
   "metadata": {
    "execution": {
     "iopub.execute_input": "2021-05-23T16:30:45.749591Z",
     "iopub.status.busy": "2021-05-23T16:30:45.748758Z",
     "iopub.status.idle": "2021-05-23T16:30:45.751312Z",
     "shell.execute_reply": "2021-05-23T16:30:45.750807Z",
     "shell.execute_reply.started": "2021-05-23T14:15:29.363228Z"
    },
    "papermill": {
     "duration": 0.099294,
     "end_time": "2021-05-23T16:30:45.751424",
     "exception": false,
     "start_time": "2021-05-23T16:30:45.652130",
     "status": "completed"
    },
    "tags": []
   },
   "outputs": [],
   "source": [
    "datagen = ImageDataGenerator(horizontal_flip=True,vertical_flip=True,rotation_range=20,zoom_range=0.2,\n",
    "                        width_shift_range=0.2,height_shift_range=0.2,shear_range=0.1,fill_mode=\"reflect\")"
   ]
  },
  {
   "cell_type": "code",
   "execution_count": null,
   "id": "palestinian-special",
   "metadata": {
    "papermill": {
     "duration": 7.983816,
     "end_time": "2021-05-23T16:30:53.827180",
     "exception": false,
     "start_time": "2021-05-23T16:30:45.843364",
     "status": "completed"
    },
    "tags": []
   },
   "outputs": [],
   "source": [
    "pretrained_model3 = tf.keras.applications.MobileNet(input_shape=(224,224,3),include_top=False,weights='imagenet',pooling='avg')\n",
    "pretrained_model3.trainable = False"
   ]
  },
  {
   "cell_type": "code",
   "execution_count": null,
   "id": "searching-digest",
   "metadata": {
    "papermill": {
     "duration": 0.158555,
     "end_time": "2021-05-23T16:30:54.082134",
     "exception": false,
     "start_time": "2021-05-23T16:30:53.923579",
     "status": "completed"
    },
    "tags": []
   },
   "outputs": [],
   "source": [
    "inputs3 = pretrained_model3.input\n",
    "x3 = tf.keras.layers.Dense(128, activation='relu')(pretrained_model3.output)\n",
    "x3 = BatchNormalization()(x3)\n",
    "x3 = Dropout(0.5)(x3)\n",
    "outputs3 = tf.keras.layers.Dense(299, activation='softmax')(x3)\n",
    "model = tf.keras.Model(inputs=inputs3, outputs=outputs3)"
   ]
  },
  {
   "cell_type": "code",
   "execution_count": null,
   "id": "democratic-astrology",
   "metadata": {
    "papermill": {
     "duration": 0.119972,
     "end_time": "2021-05-23T16:30:54.298211",
     "exception": false,
     "start_time": "2021-05-23T16:30:54.178239",
     "status": "completed"
    },
    "tags": []
   },
   "outputs": [],
   "source": [
    "model.compile(optimizer='adam',loss='categorical_crossentropy',metrics=['accuracy'])\n"
   ]
  },
  {
   "cell_type": "code",
   "execution_count": null,
   "id": "dbed7b94-5d5e-4028-b37c-63dd7531d30d",
   "metadata": {
    "tags": []
   },
   "outputs": [],
   "source": [
    "from tensorflow.keras.optimizers import Adam # imports Adam optimizer\n",
    "model.compile(optimizer=Adam(learning_rate=0.004),loss='categorical_crossentropy',metrics=['accuracy'])"
   ]
  },
  {
   "cell_type": "code",
   "execution_count": null,
   "id": "ccd3fa15-358a-4248-ab2b-3af7ddb83dd2",
   "metadata": {
    "tags": []
   },
   "outputs": [],
   "source": [
    "lr_schedule = ReduceLROnPlateau(monitor='val_loss', factor=0.5, patience=3, min_lr=1e-6)\n",
    "checkpoint_callback = ModelCheckpoint(\n",
    "    filepath='new_best_model.keras',       # Path where the model will be saved\n",
    "    monitor='val_loss',             # Metric to monitor (you can use 'val_accuracy' as well)\n",
    "    save_best_only=True,            # Save only the best model based on the monitored metric\n",
    "    mode='min',                     # 'min' to save model when validation loss decreases\n",
    "    verbose=1                       # Prints messages when the model is saved\n",
    ")\n",
    "early_stopping = EarlyStopping(\n",
    "    monitor='val_loss',         # Metric to monitor (you can use 'val_accuracy')\n",
    "    patience=3,                 # Number of epochs with no improvement after which training will stop\n",
    "    restore_best_weights=True,  # Restore model weights from the epoch with the best performance\n",
    "    verbose=1                   # Print a message when stopping\n",
    ")\n"
   ]
  },
  {
   "cell_type": "code",
   "execution_count": null,
   "id": "ce0bb1e6-5408-4833-9f36-6a01acc3a836",
   "metadata": {
    "tags": []
   },
   "outputs": [],
   "source": [
    "lr_schedule = ReduceLROnPlateau(monitor='val_loss', factor=0.5, patience=3, min_lr=1e-6)\n",
    "checkpoint_callback = ModelCheckpoint(\n",
    "    filepath='best_model.keras',       # Path where the model will be saved\n",
    "    monitor='val_loss',             # Metric to monitor (you can use 'val_accuracy' as well)\n",
    "    save_best_only=True,            # Save only the best model based on the monitored metric\n",
    "    mode='min',                     # 'min' to save model when validation loss decreases\n",
    "    verbose=1                       # Prints messages when the model is saved\n",
    ")\n",
    "early_stopping = EarlyStopping(\n",
    "    monitor='val_loss',         # Metric to monitor (you can use 'val_accuracy')\n",
    "    patience=3,                 # Number of epochs with no improvement after which training will stop\n",
    "    restore_best_weights=True,  # Restore model weights from the epoch with the best performance\n",
    "    verbose=1                   # Print a message when stopping\n",
    ")\n"
   ]
  },
  {
   "cell_type": "code",
   "execution_count": null,
   "id": "sized-imperial",
   "metadata": {
    "papermill": {
     "duration": 5321.141955,
     "end_time": "2021-05-23T17:59:35.535807",
     "exception": false,
     "start_time": "2021-05-23T16:30:54.393852",
     "status": "completed"
    },
    "tags": []
   },
   "outputs": [],
   "source": [
    "his=model.fit(train_generator,             # Training data generator\n",
    "    validation_data=validation_generator\n",
    "              ,epochs=10, callbacks=[lr_schedule,checkpoint_callback,early_stopping] )"
   ]
  },
  {
   "cell_type": "code",
   "execution_count": null,
   "id": "9c921f87-e295-4b76-bb13-520c13f00ebe",
   "metadata": {
    "tags": []
   },
   "outputs": [],
   "source": [
    "testx=test_generator"
   ]
  },
  {
   "cell_type": "code",
   "execution_count": null,
   "id": "american-superintendent",
   "metadata": {
    "papermill": {
     "duration": 32.166384,
     "end_time": "2021-05-23T18:00:25.203638",
     "exception": false,
     "start_time": "2021-05-23T17:59:53.037254",
     "status": "completed"
    },
    "tags": []
   },
   "outputs": [],
   "source": [
    "y_pred=model.predict(testx)\n"
   ]
  },
  {
   "cell_type": "code",
   "execution_count": null,
   "id": "89c325eb-98a2-4b8a-b869-713d8162c26a",
   "metadata": {
    "tags": []
   },
   "outputs": [],
   "source": [
    "pred=np.argmax(y_pred,axis=1)\n",
    "ground = test_generator.classes\n",
    "print(classification_report(ground,pred,target_names=list(test_generator.class_indices.keys())))"
   ]
  },
  {
   "cell_type": "code",
   "execution_count": null,
   "id": "logical-parent",
   "metadata": {
    "execution": {
     "iopub.execute_input": "2021-05-23T18:00:59.309853Z",
     "iopub.status.busy": "2021-05-23T18:00:59.303047Z",
     "iopub.status.idle": "2021-05-23T18:00:59.454673Z",
     "shell.execute_reply": "2021-05-23T18:00:59.455153Z",
     "shell.execute_reply.started": "2021-05-23T16:18:06.927862Z"
    },
    "papermill": {
     "duration": 17.621788,
     "end_time": "2021-05-23T18:00:59.455318",
     "exception": false,
     "start_time": "2021-05-23T18:00:41.833530",
     "status": "completed"
    },
    "tags": []
   },
   "outputs": [],
   "source": [
    "get_acc = his.history['accuracy']\n",
    "value_acc = his.history['val_accuracy']\n",
    "get_loss = his.history['loss']\n",
    "validation_loss = his.history['val_loss']\n",
    "\n",
    "epochs = range(len(get_acc))\n",
    "plt.plot(epochs, get_acc, 'r', label='Accuracy of Training data')\n",
    "plt.plot(epochs, value_acc, 'b', label='Accuracy of Validation data')\n",
    "plt.title('Training vs validation accuracy')\n",
    "plt.legend(loc=0)\n",
    "plt.figure()\n",
    "plt.show()"
   ]
  },
  {
   "cell_type": "code",
   "execution_count": null,
   "id": "genuine-floor",
   "metadata": {
    "execution": {
     "iopub.execute_input": "2021-05-23T18:01:33.562620Z",
     "iopub.status.busy": "2021-05-23T18:01:33.561615Z",
     "iopub.status.idle": "2021-05-23T18:01:33.676364Z",
     "shell.execute_reply": "2021-05-23T18:01:33.676727Z",
     "shell.execute_reply.started": "2021-05-23T16:18:07.166272Z"
    },
    "papermill": {
     "duration": 17.436579,
     "end_time": "2021-05-23T18:01:33.676867",
     "exception": false,
     "start_time": "2021-05-23T18:01:16.240288",
     "status": "completed"
    },
    "tags": []
   },
   "outputs": [],
   "source": [
    "epochs = range(len(get_loss))\n",
    "plt.plot(epochs, get_loss, 'r', label='Loss of Training data')\n",
    "plt.plot(epochs, validation_loss, 'b', label='Loss of Validation data')\n",
    "plt.title('Training vs validation loss')\n",
    "plt.legend(loc=0)\n",
    "plt.figure()\n",
    "plt.show()"
   ]
  },
  {
   "cell_type": "code",
   "execution_count": null,
   "id": "connected-banana",
   "metadata": {
    "papermill": {
     "duration": 17.34796,
     "end_time": "2021-05-23T18:02:07.715213",
     "exception": false,
     "start_time": "2021-05-23T18:01:50.367253",
     "status": "completed"
    },
    "tags": []
   },
   "outputs": [],
   "source": [
    "img0_path='Flowers299/Wandflower/0acddc9c05.jpg'\n",
    "load_img(img0_path,target_size=(224,224))"
   ]
  },
  {
   "cell_type": "code",
   "execution_count": null,
   "id": "atomic-congress",
   "metadata": {
    "papermill": {
     "duration": 16.919292,
     "end_time": "2021-05-23T18:02:41.764035",
     "exception": false,
     "start_time": "2021-05-23T18:02:24.844743",
     "status": "completed"
    },
    "tags": []
   },
   "outputs": [],
   "source": [
    "image=load_img(img0_path,target_size=(224,224))\n",
    "image=img_to_array(image) \n",
    "image=image/255.0\n",
    "prediction_image=np.array(image)\n",
    "prediction_image= np.expand_dims(image, axis=0)"
   ]
  },
  {
   "cell_type": "code",
   "execution_count": null,
   "id": "ranking-tamil",
   "metadata": {
    "papermill": {
     "duration": 17.233216,
     "end_time": "2021-05-23T18:03:16.343165",
     "exception": false,
     "start_time": "2021-05-23T18:02:59.109949",
     "status": "completed"
    },
    "tags": []
   },
   "outputs": [],
   "source": [
    "prediction=model.predict(prediction_image)\n",
    "value=np.argmax(prediction)\n",
    "name=mapper(value)\n",
    "print(\"Prediction is {}.\".format(name))"
   ]
  },
  {
   "cell_type": "code",
   "execution_count": null,
   "id": "experienced-finland",
   "metadata": {
    "papermill": {
     "duration": 33.159493,
     "end_time": "2021-05-23T18:04:06.825468",
     "exception": false,
     "start_time": "2021-05-23T18:03:33.665975",
     "status": "completed"
    },
    "tags": []
   },
   "outputs": [],
   "source": [
    "pred2=model.predict(test)\n",
    "print(test.shape)\n",
    "print(pred2.shape)\n",
    "\n",
    "PRED=[]\n",
    "for item in pred2:\n",
    "    value2=np.argmax(item)      \n",
    "    PRED+=[value2]"
   ]
  },
  {
   "cell_type": "code",
   "execution_count": null,
   "id": "selective-staff",
   "metadata": {
    "execution": {
     "iopub.execute_input": "2021-05-23T18:04:40.982442Z",
     "iopub.status.busy": "2021-05-23T18:04:40.981577Z",
     "iopub.status.idle": "2021-05-23T18:04:40.983834Z",
     "shell.execute_reply": "2021-05-23T18:04:40.984189Z",
     "shell.execute_reply.started": "2021-05-23T16:18:31.091065Z"
    },
    "papermill": {
     "duration": 17.419467,
     "end_time": "2021-05-23T18:04:40.984346",
     "exception": false,
     "start_time": "2021-05-23T18:04:23.564879",
     "status": "completed"
    },
    "tags": []
   },
   "outputs": [],
   "source": [
    "ANS=testlabel"
   ]
  },
  {
   "cell_type": "code",
   "execution_count": null,
   "id": "defensive-florence",
   "metadata": {
    "execution": {
     "iopub.execute_input": "2021-05-23T18:05:15.099020Z",
     "iopub.status.busy": "2021-05-23T18:05:15.098141Z",
     "iopub.status.idle": "2021-05-23T18:05:15.113431Z",
     "shell.execute_reply": "2021-05-23T18:05:15.112813Z",
     "shell.execute_reply.started": "2021-05-23T16:18:31.105101Z"
    },
    "papermill": {
     "duration": 17.48463,
     "end_time": "2021-05-23T18:05:15.113583",
     "exception": false,
     "start_time": "2021-05-23T18:04:57.628953",
     "status": "completed"
    },
    "scrolled": true,
    "tags": []
   },
   "outputs": [],
   "source": [
    "accuracy=accuracy_score(ANS,PRED)\n",
    "print(accuracy)"
   ]
  },
  {
   "cell_type": "code",
   "execution_count": null,
   "id": "1e57e383",
   "metadata": {
    "tags": []
   },
   "outputs": [],
   "source": [
    "import tensorflow as tf\n",
    "from tensorflow.keras.models import load_model\n",
    "\n",
    "# Load your FP16 model\n",
    "model = load_model('best_model(7).keras')\n",
    "inputs = tf.keras.Input(shape=model.input_shape[1:], dtype=tf.float32, name='input_fp32')\n",
    "\n",
    "# Cast the input to FP16 for compatibility with the rest of the model\n",
    "casted_inputs = tf.keras.layers.Lambda(lambda x: tf.cast(x, dtype=tf.float16))(inputs)\n",
    "\n",
    "# Pass the casted inputs through the original FP16 model\n",
    "outputs = model(casted_inputs)\n",
    "\n",
    "# Create a new model that accepts FP32 input and casts to FP16 internally\n",
    "model_fp32_input = tf.keras.Model(inputs=inputs, outputs=outputs)\n",
    "tf.saved_model.save(model, 'my_model')  # This will create a directory 'my_model'\n",
    "####\n",
    "model = tf.saved_model.load('my_model')\n",
    "model.signatures[tf.saved_model.DEFAULT_SERVING_SIGNATURE_DEF_KEY].inputs[0].set_shape([1, 224, 224, 3])\n",
    "tf.saved_model.save(model, 'my_model3', signatures=model.signatures[tf.saved_model.DEFAULT_SERVING_SIGNATURE_DEF_KEY])\n",
    "# Convert\n",
    "converter = tf.lite.TFLiteConverter.from_saved_model(saved_model_dir='my_model2', signature_keys=['serving_default'])\n",
    "converter.optimizations = [tf.lite.Optimize.DEFAULT]\n",
    "converter.target_spec.supported_ops = [tf.lite.OpsSet.TFLITE_BUILTINS, tf.lite.OpsSet.SELECT_TF_OPS]\n",
    "converter.target_spec.supported_types = [tf.float32]\n",
    "converter.allow_custom_ops = True\n",
    "tflite_model = converter.convert()\n",
    "# Save the converted model\n",
    "with open('model.tflite', 'wb') as f:\n",
    "    f.write(tflite_model)\n",
    "print(\"Model successfully converted and saved as model.tflite\")\n",
    "####\n"
   ]
  },
  {
   "cell_type": "code",
   "execution_count": null,
   "id": "cf3df39d-e8d4-485d-a912-e0dea093cd8b",
   "metadata": {},
   "outputs": [],
   "source": [
    "####\n",
    "model = tf.saved_model.load('my_model')\n",
    "model.signatures[tf.saved_model.DEFAULT_SERVING_SIGNATURE_DEF_KEY].inputs[0].set_shape([1, 224, 224, 3])\n",
    "tf.saved_model.save(model, 'my_model2', signatures=model.signatures[tf.saved_model.DEFAULT_SERVING_SIGNATURE_DEF_KEY])\n",
    "# Convert\n",
    "converter = tf.lite.TFLiteConverter.from_saved_model(saved_model_dir='my_model2', signature_keys=['serving_default'])\n",
    "converter.optimizations = [tf.lite.Optimize.DEFAULT]\n",
    "converter.target_spec.supported_ops = [tf.lite.OpsSet.TFLITE_BUILTINS, tf.lite.OpsSet.SELECT_TF_OPS]\n",
    "tflite_model = converter.convert()\n",
    "# Save the converted model\n",
    "with open('model.tflite', 'wb') as f:\n",
    "    f.write(tflite_model)\n",
    "print(\"Model successfully converted and saved as model.tflite\")\n",
    "####"
   ]
  },
  {
   "cell_type": "code",
   "execution_count": null,
   "id": "f2c91f91",
   "metadata": {},
   "outputs": [],
   "source": [
    " converter = tf.lite.TFLiteConverter.from_saved_model('my_model')  # Point to SavedModel folder\n",
    "    tflite_model = converter.convert()\n",
    "\n",
    "with open('model.tflite', 'wb') as f:\n",
    "        f.write(tflite_model)"
   ]
  },
  {
   "cell_type": "code",
   "execution_count": null,
   "id": "unlikely-accident",
   "metadata": {
    "papermill": {
     "duration": 17.062376,
     "end_time": "2021-05-23T18:05:49.030840",
     "exception": false,
     "start_time": "2021-05-23T18:05:31.968464",
     "status": "completed"
    },
    "tags": []
   },
   "outputs": [],
   "source": [
    "# !pip uninstall tensorflow\n",
    "!pip uninstall -y tensorflow \n",
    "!pip uninstall -y tf-nightly\n",
    "!pip cache purge\n",
    "!pip install tensorflow==2.17.0\n",
    "\n"
   ]
  },
  {
   "cell_type": "code",
   "execution_count": null,
   "id": "c333bc73-0c86-4d7f-b24c-2d49cc0e670b",
   "metadata": {
    "tags": []
   },
   "outputs": [],
   "source": [
    "!python -m pip uninstall tensorflow\n",
    "import tensorflow as tf\n",
    "print(\"TensorFlow version:\", tf.__version__)"
   ]
  },
  {
   "cell_type": "markdown",
   "id": "04efeca0",
   "metadata": {},
   "source": []
  },
  {
   "cell_type": "code",
   "execution_count": null,
   "id": "9bdd1c40",
   "metadata": {
    "tags": []
   },
   "outputs": [],
   "source": [
    "!pip uninstall -y tf-nightly"
   ]
  },
  {
   "cell_type": "code",
   "execution_count": null,
   "id": "4f539b9b",
   "metadata": {
    "papermill": {
     "duration": 5.093749,
     "end_time": "2021-05-23T16:20:19.293869",
     "exception": false,
     "start_time": "2021-05-23T16:20:14.200120",
     "status": "completed"
    },
    "tags": []
   },
   "outputs": [],
   "source": [
    "import numpy as np\n",
    "import pandas as pd\n",
    "import os\n",
    "import matplotlib.pyplot as plt\n",
    "import random\n",
    "\n",
    "import tensorflow as tf\n",
    "from tensorflow.keras.utils import to_categorical\n",
    "from tensorflow.keras.preprocessing.image import load_img, img_to_array\n",
    "from tensorflow.keras.preprocessing.image import ImageDataGenerator\n",
    "\n",
    "from sklearn.metrics import classification_report, log_loss, accuracy_score\n",
    "from sklearn.model_selection import train_test_split\n",
    "from tqdm import tqdm\n",
    "\n",
    "from tensorflow.keras.layers import Dropout, BatchNormalization, Dense\n",
    "from tensorflow.keras.callbacks import ReduceLROnPlateau,ModelCheckpoint,EarlyStopping\n",
    "\n",
    "from tensorflow.keras import mixed_precision\n",
    "\n"
   ]
  },
  {
   "cell_type": "code",
   "execution_count": null,
   "id": "e8849e44",
   "metadata": {
    "papermill": {
     "duration": 0.023349,
     "end_time": "2021-05-23T16:20:19.334974",
     "exception": false,
     "start_time": "2021-05-23T16:20:19.311625",
     "status": "completed"
    },
    "tags": []
   },
   "outputs": [],
   "source": [
    "data_dir = './Flowers299'\n",
    "base_dir = '.\\Flowers_split' \n",
    "train_dir = os.path.join(base_dir, 'train')\n",
    "val_dir = os.path.join(base_dir, 'val')\n",
    "test_dir = os.path.join(base_dir, 'test')"
   ]
  },
  {
   "cell_type": "code",
   "execution_count": null,
   "id": "47ecbbae",
   "metadata": {
    "papermill": {
     "duration": 0.06412,
     "end_time": "2021-05-23T16:20:19.416334",
     "exception": false,
     "start_time": "2021-05-23T16:20:19.352214",
     "status": "completed"
    },
    "tags": []
   },
   "outputs": [],
   "source": [
    "Name=[]\n",
    "for file in os.listdir(data_dir):\n",
    "    Name+=[file]\n",
    "    \n",
    "print(Name)\n",
    "print(len(Name))"
   ]
  },
  {
   "cell_type": "code",
   "execution_count": null,
   "id": "31fc897e",
   "metadata": {},
   "outputs": [],
   "source": [
    "labels_series=pd.Series(Name)\n",
    "\n",
    "labels_series.to_csv('labels1.txt',index=False,header=False)"
   ]
  },
  {
   "cell_type": "code",
   "execution_count": null,
   "id": "adad1264",
   "metadata": {},
   "outputs": [],
   "source": [
    "import re\n",
    "\n",
    "def add_space_before_capitals(input_file, output_file):\n",
    "    try:\n",
    "        # Read the content of the input file\n",
    "        with open(input_file, 'r') as file:\n",
    "            content = file.read()\n",
    "\n",
    "        # Use regular expression to add a space before each capital letter\n",
    "        modified_content = re.sub(r'(?<!^)(?<!\\s)(?=[A-Z])', ' ', content)\n",
    "\n",
    "        # Write the modified content to the output file\n",
    "        with open(output_file, 'w') as file:\n",
    "            file.write(modified_content)\n",
    "\n",
    "        print(f\"Processed content has been saved to '{output_file}'.\")\n",
    "\n",
    "    except FileNotFoundError:\n",
    "        print(f\"The file '{input_file}' was not found.\")\n",
    "    except Exception as e:\n",
    "        print(f\"An error occurred: {e}\")\n",
    "\n",
    "# Example usage\n",
    "input_file = 'labels1.txt'  # Replace with your input file name\n",
    "output_file = 'labels.txt'  # Replace with your desired output file name\n",
    "add_space_before_capitals(input_file, output_file)\n"
   ]
  },
  {
   "cell_type": "code",
   "execution_count": null,
   "id": "11fb2130",
   "metadata": {
    "papermill": {
     "duration": 0.024975,
     "end_time": "2021-05-23T16:20:19.459329",
     "exception": false,
     "start_time": "2021-05-23T16:20:19.434354",
     "status": "completed"
    },
    "tags": []
   },
   "outputs": [],
   "source": [
    "N=[]\n",
    "for i in range(len(Name)):\n",
    "    N+=[i]\n",
    "    \n",
    "normal_mapping=dict(zip(Name,N)) \n",
    "reverse_mapping=dict(zip(N,Name)) \n",
    "\n",
    "def mapper(value):\n",
    "    return reverse_mapping[value]"
   ]
  },
  {
   "cell_type": "code",
   "execution_count": null,
   "id": "44f469e1",
   "metadata": {
    "_cell_guid": "79c7e3d0-c299-4dcb-8224-4455121ee9b0",
    "_uuid": "d629ff2d2480ee46fbb7e2d37f6b5fab8052498a",
    "papermill": {
     "duration": 622.328354,
     "end_time": "2021-05-23T16:30:41.805853",
     "exception": false,
     "start_time": "2021-05-23T16:20:19.477499",
     "status": "completed"
    },
    "tags": []
   },
   "outputs": [],
   "source": [
    "dataset=[]\n",
    "count=0\n",
    "for file in tqdm(os.listdir(data_dir)):\n",
    "    path=os.path.join(data_dir,file)\n",
    "    for im in os.listdir(path):\n",
    "#         image=load_img(os.path.join(path,im), color_mode='rgb', target_size=(150,150))\n",
    "#         image=img_to_array(image)\n",
    "#         image=image/255.0\n",
    "#         dataset+=[[image,count]]\n",
    "          count=count+1 # count in first for only\n",
    "n = count\n",
    "print(n)"
   ]
  },
  {
   "cell_type": "code",
   "execution_count": null,
   "id": "5b171dea",
   "metadata": {
    "execution": {
     "iopub.execute_input": "2021-05-23T16:30:41.998548Z",
     "iopub.status.busy": "2021-05-23T16:30:41.997974Z",
     "iopub.status.idle": "2021-05-23T16:30:42.003169Z",
     "shell.execute_reply": "2021-05-23T16:30:42.003778Z",
     "shell.execute_reply.started": "2021-05-23T14:15:26.108014Z"
    },
    "papermill": {
     "duration": 0.102884,
     "end_time": "2021-05-23T16:30:42.003955",
     "exception": false,
     "start_time": "2021-05-23T16:30:41.901071",
     "status": "completed"
    },
    "tags": []
   },
   "outputs": [],
   "source": [
    "n=len(dataset)\n",
    "print(n)"
   ]
  },
  {
   "cell_type": "code",
   "execution_count": null,
   "id": "7320dbac",
   "metadata": {
    "papermill": {
     "duration": 0.221411,
     "end_time": "2021-05-23T16:30:42.318292",
     "exception": false,
     "start_time": "2021-05-23T16:30:42.096881",
     "status": "completed"
    },
    "tags": []
   },
   "outputs": [],
   "source": [
    "num=[]\n",
    "for i in range(n):\n",
    "    num+=[i]\n",
    "random.shuffle(num)\n",
    "print(num[0:5])"
   ]
  },
  {
   "cell_type": "code",
   "execution_count": null,
   "id": "f4928679",
   "metadata": {
    "execution": {
     "iopub.execute_input": "2021-05-23T16:30:42.706492Z",
     "iopub.status.busy": "2021-05-23T16:30:42.694570Z",
     "iopub.status.idle": "2021-05-23T16:30:44.170408Z",
     "shell.execute_reply": "2021-05-23T16:30:44.168877Z",
     "shell.execute_reply.started": "2021-05-23T14:15:26.275117Z"
    },
    "papermill": {
     "duration": 1.758575,
     "end_time": "2021-05-23T16:30:44.170602",
     "exception": false,
     "start_time": "2021-05-23T16:30:42.412027",
     "status": "completed"
    },
    "tags": []
   },
   "outputs": [],
   "source": [
    "data,labels=zip(*dataset)\n",
    "data=np.array(data)\n",
    "labels=np.array(labels)\n",
    "\n",
    "for i in tqdm(range(n)):\n",
    "    dataset[i][0]=dataset[i][0].astype(np.float16)\n",
    "\n",
    "train = np.array([dataset[i][0] for i in num[0:(n//10)*8]])\n",
    "trainlabel = np.array([dataset[i][1] for i in num[0:(n//10)*8]])\n",
    "\n",
    "test = np.array([dataset[i][0] for i in num[(n//10)*8:]])\n",
    "testlabel = np.array([dataset[i][1] for i in num[(n//10)*8:]])\n",
    "\n"
   ]
  },
  {
   "cell_type": "code",
   "execution_count": null,
   "id": "1929ba5a",
   "metadata": {
    "papermill": {
     "duration": 0.685029,
     "end_time": "2021-05-23T16:30:45.364415",
     "exception": false,
     "start_time": "2021-05-23T16:30:44.679386",
     "status": "completed"
    },
    "tags": []
   },
   "outputs": [],
   "source": [
    "datagen = ImageDataGenerator(rescale=1.0/255.0)\n",
    "datagen2 = ImageDataGenerator(rescale=1.0/255.0,horizontal_flip=True,vertical_flip=True,rotation_range=20,zoom_range=0.2,)\n",
    "\n",
    "train_generator = datagen2.flow_from_directory(\n",
    "    directory=train_dir,  # Use the new train directory\n",
    "    target_size=(224, 224),\n",
    "    batch_size=8,\n",
    "    color_mode='rgb',\n",
    "    class_mode='categorical'\n",
    ")\n",
    "\n",
    "validation_generator = datagen.flow_from_directory(\n",
    "    directory=val_dir,  # Use the new validation directory\n",
    "    target_size=(224, 224),\n",
    "    batch_size=8,color_mode='rgb',\n",
    "    class_mode='categorical'\n",
    ")\n",
    "\n",
    "test_generator = datagen.flow_from_directory(\n",
    "    directory=test_dir,  # Use the new test directory\n",
    "    target_size=(224, 224),\n",
    "    batch_size=8,color_mode='rgb',\n",
    "    class_mode='categorical',\n",
    "    shuffle=False\n",
    ")"
   ]
  },
  {
   "cell_type": "code",
   "execution_count": null,
   "id": "f73ed7c4",
   "metadata": {
    "execution": {
     "iopub.execute_input": "2021-05-23T16:30:45.749591Z",
     "iopub.status.busy": "2021-05-23T16:30:45.748758Z",
     "iopub.status.idle": "2021-05-23T16:30:45.751312Z",
     "shell.execute_reply": "2021-05-23T16:30:45.750807Z",
     "shell.execute_reply.started": "2021-05-23T14:15:29.363228Z"
    },
    "papermill": {
     "duration": 0.099294,
     "end_time": "2021-05-23T16:30:45.751424",
     "exception": false,
     "start_time": "2021-05-23T16:30:45.652130",
     "status": "completed"
    },
    "tags": []
   },
   "outputs": [],
   "source": [
    "datagen = ImageDataGenerator(horizontal_flip=True,vertical_flip=True,rotation_range=20,zoom_range=0.2,\n",
    "                        width_shift_range=0.2,height_shift_range=0.2,shear_range=0.1,fill_mode=\"reflect\")"
   ]
  },
  {
   "cell_type": "code",
   "execution_count": null,
   "id": "d93474b8",
   "metadata": {
    "papermill": {
     "duration": 7.983816,
     "end_time": "2021-05-23T16:30:53.827180",
     "exception": false,
     "start_time": "2021-05-23T16:30:45.843364",
     "status": "completed"
    },
    "tags": []
   },
   "outputs": [],
   "source": [
    "pretrained_model3 = tf.keras.applications.MobileNet(input_shape=(224,224,3),include_top=False,weights='imagenet',pooling='avg')\n",
    "pretrained_model3.trainable = False"
   ]
  },
  {
   "cell_type": "code",
   "execution_count": null,
   "id": "e6819a30",
   "metadata": {
    "papermill": {
     "duration": 0.158555,
     "end_time": "2021-05-23T16:30:54.082134",
     "exception": false,
     "start_time": "2021-05-23T16:30:53.923579",
     "status": "completed"
    },
    "tags": []
   },
   "outputs": [],
   "source": [
    "inputs3 = pretrained_model3.input\n",
    "x3 = tf.keras.layers.Dense(128, activation='relu')(pretrained_model3.output)\n",
    "x3 = BatchNormalization()(x3)\n",
    "x3 = Dropout(0.5)(x3)\n",
    "outputs3 = tf.keras.layers.Dense(299, activation='softmax')(x3)\n",
    "model = tf.keras.Model(inputs=inputs3, outputs=outputs3)"
   ]
  },
  {
   "cell_type": "code",
   "execution_count": null,
   "id": "e1b8f585",
   "metadata": {
    "papermill": {
     "duration": 0.119972,
     "end_time": "2021-05-23T16:30:54.298211",
     "exception": false,
     "start_time": "2021-05-23T16:30:54.178239",
     "status": "completed"
    },
    "tags": []
   },
   "outputs": [],
   "source": [
    "model.compile(optimizer='adam',loss='categorical_crossentropy',metrics=['accuracy'])\n"
   ]
  },
  {
   "cell_type": "code",
   "execution_count": null,
   "id": "060454fa",
   "metadata": {
    "tags": []
   },
   "outputs": [],
   "source": [
    "from tensorflow.keras.optimizers import Adam # imports Adam optimizer\n",
    "model.compile(optimizer=Adam(learning_rate=0.004),loss='categorical_crossentropy',metrics=['accuracy'])"
   ]
  },
  {
   "cell_type": "code",
   "execution_count": null,
   "id": "3a55fd44",
   "metadata": {
    "tags": []
   },
   "outputs": [],
   "source": [
    "lr_schedule = ReduceLROnPlateau(monitor='val_loss', factor=0.5, patience=3, min_lr=1e-6)\n",
    "checkpoint_callback = ModelCheckpoint(\n",
    "    filepath='new_best_model.keras',       # Path where the model will be saved\n",
    "    monitor='val_loss',             # Metric to monitor (you can use 'val_accuracy' as well)\n",
    "    save_best_only=True,            # Save only the best model based on the monitored metric\n",
    "    mode='min',                     # 'min' to save model when validation loss decreases\n",
    "    verbose=1                       # Prints messages when the model is saved\n",
    ")\n",
    "early_stopping = EarlyStopping(\n",
    "    monitor='val_loss',         # Metric to monitor (you can use 'val_accuracy')\n",
    "    patience=3,                 # Number of epochs with no improvement after which training will stop\n",
    "    restore_best_weights=True,  # Restore model weights from the epoch with the best performance\n",
    "    verbose=1                   # Print a message when stopping\n",
    ")\n"
   ]
  },
  {
   "cell_type": "code",
   "execution_count": null,
   "id": "1de95346",
   "metadata": {
    "papermill": {
     "duration": 5321.141955,
     "end_time": "2021-05-23T17:59:35.535807",
     "exception": false,
     "start_time": "2021-05-23T16:30:54.393852",
     "status": "completed"
    },
    "scrolled": true,
    "tags": []
   },
   "outputs": [],
   "source": [
    "his=model.fit(train_generator,             # Training data generator\n",
    "    validation_data=validation_generator\n",
    "              ,epochs=10, callbacks=[lr_schedule,checkpoint_callback,early_stopping] )"
   ]
  },
  {
   "cell_type": "code",
   "execution_count": null,
   "id": "5537e3a8",
   "metadata": {
    "execution": {
     "iopub.execute_input": "2021-05-23T18:00:59.309853Z",
     "iopub.status.busy": "2021-05-23T18:00:59.303047Z",
     "iopub.status.idle": "2021-05-23T18:00:59.454673Z",
     "shell.execute_reply": "2021-05-23T18:00:59.455153Z",
     "shell.execute_reply.started": "2021-05-23T16:18:06.927862Z"
    },
    "papermill": {
     "duration": 17.621788,
     "end_time": "2021-05-23T18:00:59.455318",
     "exception": false,
     "start_time": "2021-05-23T18:00:41.833530",
     "status": "completed"
    },
    "tags": []
   },
   "outputs": [],
   "source": [
    "get_acc = his.history['accuracy']\n",
    "value_acc = his.history['val_accuracy']\n",
    "get_loss = his.history['loss']\n",
    "validation_loss = his.history['val_loss']\n",
    "\n",
    "epochs = range(len(get_acc))\n",
    "plt.plot(epochs, get_acc, 'r', label='Accuracy of Training data')\n",
    "plt.plot(epochs, value_acc, 'b', label='Accuracy of Validation data')\n",
    "plt.title('Training vs validation accuracy')\n",
    "plt.legend(loc=0)\n",
    "plt.figure()\n",
    "plt.show()"
   ]
  },
  {
   "cell_type": "code",
   "execution_count": null,
   "id": "17015ba2",
   "metadata": {
    "execution": {
     "iopub.execute_input": "2021-05-23T18:01:33.562620Z",
     "iopub.status.busy": "2021-05-23T18:01:33.561615Z",
     "iopub.status.idle": "2021-05-23T18:01:33.676364Z",
     "shell.execute_reply": "2021-05-23T18:01:33.676727Z",
     "shell.execute_reply.started": "2021-05-23T16:18:07.166272Z"
    },
    "papermill": {
     "duration": 17.436579,
     "end_time": "2021-05-23T18:01:33.676867",
     "exception": false,
     "start_time": "2021-05-23T18:01:16.240288",
     "status": "completed"
    },
    "tags": []
   },
   "outputs": [],
   "source": [
    "epochs = range(len(get_loss))\n",
    "plt.plot(epochs, get_loss, 'r', label='Loss of Training data')\n",
    "plt.plot(epochs, validation_loss, 'b', label='Loss of Validation data')\n",
    "plt.title('Training vs validation loss')\n",
    "plt.legend(loc=0)\n",
    "plt.figure()\n",
    "plt.show()"
   ]
  },
  {
   "cell_type": "code",
   "execution_count": null,
   "id": "7cff150a",
   "metadata": {
    "papermill": {
     "duration": 17.34796,
     "end_time": "2021-05-23T18:02:07.715213",
     "exception": false,
     "start_time": "2021-05-23T18:01:50.367253",
     "status": "completed"
    },
    "tags": []
   },
   "outputs": [],
   "source": [
    "img0_path='Flowers299/Wandflower/0acddc9c05.jpg'\n",
    "load_img(img0_path,target_size=(224,224))"
   ]
  },
  {
   "cell_type": "code",
   "execution_count": null,
   "id": "8de3295d",
   "metadata": {
    "papermill": {
     "duration": 16.919292,
     "end_time": "2021-05-23T18:02:41.764035",
     "exception": false,
     "start_time": "2021-05-23T18:02:24.844743",
     "status": "completed"
    },
    "tags": []
   },
   "outputs": [],
   "source": [
    "image=load_img(img0_path,target_size=(224,224))\n",
    "image=img_to_array(image) \n",
    "image=image/255.0\n",
    "prediction_image=np.array(image)\n",
    "prediction_image= np.expand_dims(image, axis=0)"
   ]
  },
  {
   "cell_type": "code",
   "execution_count": null,
   "id": "02665ccf",
   "metadata": {
    "papermill": {
     "duration": 17.233216,
     "end_time": "2021-05-23T18:03:16.343165",
     "exception": false,
     "start_time": "2021-05-23T18:02:59.109949",
     "status": "completed"
    },
    "tags": []
   },
   "outputs": [],
   "source": [
    "prediction=model.predict(prediction_image)\n",
    "value=np.argmax(prediction)\n",
    "name=mapper(value)\n",
    "print(\"Prediction is {}.\".format(name))"
   ]
  },
  {
   "cell_type": "code",
   "execution_count": null,
   "id": "ab5d0d8f",
   "metadata": {
    "papermill": {
     "duration": 33.159493,
     "end_time": "2021-05-23T18:04:06.825468",
     "exception": false,
     "start_time": "2021-05-23T18:03:33.665975",
     "status": "completed"
    },
    "tags": []
   },
   "outputs": [],
   "source": [
    "pred2=model.predict(test)\n",
    "print(test.shape)\n",
    "print(pred2.shape)\n",
    "\n",
    "PRED=[]\n",
    "for item in pred2:\n",
    "    value2=np.argmax(item)      \n",
    "    PRED+=[value2]"
   ]
  },
  {
   "cell_type": "code",
   "execution_count": null,
   "id": "86727cf2",
   "metadata": {
    "execution": {
     "iopub.execute_input": "2021-05-23T18:04:40.982442Z",
     "iopub.status.busy": "2021-05-23T18:04:40.981577Z",
     "iopub.status.idle": "2021-05-23T18:04:40.983834Z",
     "shell.execute_reply": "2021-05-23T18:04:40.984189Z",
     "shell.execute_reply.started": "2021-05-23T16:18:31.091065Z"
    },
    "papermill": {
     "duration": 17.419467,
     "end_time": "2021-05-23T18:04:40.984346",
     "exception": false,
     "start_time": "2021-05-23T18:04:23.564879",
     "status": "completed"
    },
    "tags": []
   },
   "outputs": [],
   "source": [
    "ANS=testlabel"
   ]
  },
  {
   "cell_type": "code",
   "execution_count": null,
   "id": "35054082",
   "metadata": {
    "execution": {
     "iopub.execute_input": "2021-05-23T18:05:15.099020Z",
     "iopub.status.busy": "2021-05-23T18:05:15.098141Z",
     "iopub.status.idle": "2021-05-23T18:05:15.113431Z",
     "shell.execute_reply": "2021-05-23T18:05:15.112813Z",
     "shell.execute_reply.started": "2021-05-23T16:18:31.105101Z"
    },
    "papermill": {
     "duration": 17.48463,
     "end_time": "2021-05-23T18:05:15.113583",
     "exception": false,
     "start_time": "2021-05-23T18:04:57.628953",
     "status": "completed"
    },
    "scrolled": true,
    "tags": []
   },
   "outputs": [],
   "source": [
    "accuracy=accuracy_score(ANS,PRED)\n",
    "print(accuracy)"
   ]
  },
  {
   "cell_type": "code",
   "execution_count": null,
   "id": "30988340",
   "metadata": {
    "tags": []
   },
   "outputs": [],
   "source": [
    "# Load your FP16 model\n",
    "model = load_model('best_model(7).keras')\n",
    "inputs = tf.keras.Input(shape=model.input_shape[1:], dtype=tf.float32, name='input_fp32')\n",
    "\n",
    "# Cast the input to FP16 for compatibility with the rest of the model\n",
    "casted_inputs = tf.keras.layers.Lambda(lambda x: tf.cast(x, dtype=tf.float16))(inputs)\n",
    "\n",
    "# Pass the casted inputs through the original FP16 model\n",
    "outputs = model(casted_inputs)\n",
    "\n",
    "# Create a new model that accepts FP32 input and casts to FP16 internally\n",
    "model_fp32_input = tf.keras.Model(inputs=inputs, outputs=outputs)\n",
    "tf.saved_model.save(model, 'my_model')  # This will create a directory 'my_model'\n",
    "####\n",
    "model = tf.saved_model.load('my_model')\n",
    "model.signatures[tf.saved_model.DEFAULT_SERVING_SIGNATURE_DEF_KEY].inputs[0].set_shape([1, 224, 224, 3])\n",
    "tf.saved_model.save(model, 'my_model3', signatures=model.signatures[tf.saved_model.DEFAULT_SERVING_SIGNATURE_DEF_KEY])\n",
    "# Convert\n",
    "converter = tf.lite.TFLiteConverter.from_saved_model(saved_model_dir='my_model2', signature_keys=['serving_default'])\n",
    "converter.optimizations = [tf.lite.Optimize.DEFAULT]\n",
    "converter.target_spec.supported_ops = [tf.lite.OpsSet.TFLITE_BUILTINS, tf.lite.OpsSet.SELECT_TF_OPS]\n",
    "converter.target_spec.supported_types = [tf.float32]\n",
    "converter.allow_custom_ops = True\n",
    "tflite_model = converter.convert()\n",
    "# Save the converted model\n",
    "with open('model.tflite', 'wb') as f:\n",
    "    f.write(tflite_model)\n",
    "print(\"Model successfully converted and saved as model.tflite\")\n"
   ]
  }
 ],
 "metadata": {
  "kernelspec": {
   "display_name": "Python 3 (ipykernel)",
   "language": "python",
   "name": "python3"
  },
  "language_info": {
   "codemirror_mode": {
    "name": "ipython",
    "version": 3
   },
   "file_extension": ".py",
   "mimetype": "text/x-python",
   "name": "python",
   "nbconvert_exporter": "python",
   "pygments_lexer": "ipython3",
   "version": "3.11.4"
  },
  "papermill": {
   "default_parameters": {},
   "duration": 6362.155373,
   "end_time": "2021-05-23T18:06:09.934608",
   "environment_variables": {},
   "exception": null,
   "input_path": "__notebook__.ipynb",
   "output_path": "__notebook__.ipynb",
   "parameters": {},
   "start_time": "2021-05-23T16:20:07.779235",
   "version": "2.3.3"
  }
 },
 "nbformat": 4,
 "nbformat_minor": 5
}
